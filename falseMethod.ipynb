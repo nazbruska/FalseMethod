{
  "nbformat": 4,
  "nbformat_minor": 0,
  "metadata": {
    "colab": {
      "provenance": []
    },
    "kernelspec": {
      "name": "python3",
      "display_name": "Python 3"
    },
    "language_info": {
      "name": "python"
    }
  },
  "cells": [
    {
      "cell_type": "code",
      "execution_count": null,
      "metadata": {
        "colab": {
          "base_uri": "https://localhost:8080/"
        },
        "id": "2FeTpppb0RGk",
        "outputId": "b6b539b8-bb8c-4ca0-a704-27165db894f5"
      },
      "outputs": [
        {
          "output_type": "stream",
          "name": "stdout",
          "text": [
            "First Guess: -1\n",
            "Second Guess: -2\n",
            "Tolerable Error: 0.0001\n",
            "\n",
            "\n",
            "*** FALSE POSITION METHOD IMPLEMENTATION ***\n",
            "Iteration-1, x2 = -1.300000 and f(x2) = 1.953000\n",
            "Iteration-2, x2 = -1.385695 and f(x2) = 0.509885\n",
            "Iteration-3, x2 = -1.407282 and f(x2) = 0.125301\n",
            "Iteration-4, x2 = -1.412540 and f(x2) = 0.030331\n",
            "Iteration-5, x2 = -1.413810 and f(x2) = 0.007315\n",
            "Iteration-6, x2 = -1.414116 and f(x2) = 0.001763\n",
            "Iteration-7, x2 = -1.414190 and f(x2) = 0.000425\n",
            "Iteration-8, x2 = -1.414208 and f(x2) = 0.000102\n",
            "Iteration-9, x2 = -1.414212 and f(x2) = 0.000025\n",
            "\n",
            "Required root is: -1.41421220\n"
          ]
        }
      ],
      "source": [
        "def f(x):\n",
        "    return x**3-5*x**2-2*x+10\n",
        "\n",
        "\n",
        "def falsePosition(x0,x1,e):\n",
        "    step = 1\n",
        "    print('\\n\\n*** FALSE POSITION METHOD IMPLEMENTATION ***')\n",
        "    condition = True\n",
        "    while condition:\n",
        "        x2 = x0 - (x1-x0) * f(x0)/( f(x1) - f(x0) )\n",
        "        print('Iteration-%d, x2 = %0.6f and f(x2) = %0.6f' % (step, x2, f(x2)))\n",
        "\n",
        "        if f(x0) * f(x2) < 0:\n",
        "            x1 = x2\n",
        "        else:\n",
        "            x0 = x2\n",
        "\n",
        "        step = step + 1\n",
        "        condition = abs(f(x2)) > e\n",
        "\n",
        "    print('\\nRequired root is: %0.8f' % x2)\n",
        "\n",
        "\n",
        "\n",
        "x0 = input('First Guess: ')\n",
        "x1 = input('Second Guess: ')\n",
        "e = input('Tolerable Error: ')\n",
        "\n",
        "\n",
        "x0 = float(x0)\n",
        "x1 = float(x1)\n",
        "e = float(e)\n",
        "\n",
        "\n",
        "if f(x0) * f(x1) > 0.0:\n",
        "    print('Given guess values do not bracket the root.')\n",
        "    print('Try Again with different guess values.')\n",
        "else:\n",
        "    falsePosition(x0,x1,e)"
      ]
    }
  ]
}